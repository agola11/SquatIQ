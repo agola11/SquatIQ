{
 "cells": [
  {
   "cell_type": "code",
   "execution_count": 42,
   "metadata": {
    "collapsed": true
   },
   "outputs": [],
   "source": [
    "import numpy as np\n",
    "import scipy as sp\n",
    "import pandas as pd\n",
    "import matplotlib.pyplot as plt\n",
    "import matplotlib.image as mpimg\n",
    "\n",
    "# Configure matplotlib to show figures embedded in the notebook\n",
    "# %matplotlib inline"
   ]
  },
  {
   "cell_type": "code",
   "execution_count": 43,
   "metadata": {
    "collapsed": true
   },
   "outputs": [],
   "source": [
    "LINE_LIM = 111\n",
    "file_name = '../squat_file'\n",
    "\n",
    "with open(file_name) as f:\n",
    "    content = f.readlines()\n",
    "\n",
    "content = [x.strip() for x in content] "
   ]
  },
  {
   "cell_type": "code",
   "execution_count": 44,
   "metadata": {
    "collapsed": false
   },
   "outputs": [
    {
     "data": {
      "text/plain": [
       "['STABLE: 3996, {\"heeldom\": 0.6642598023957306}',\n",
       " 'STABLE: 3956, {\"pron\": 0.5134631926952321, \"heeldom\": 0.6165431062152397}',\n",
       " 'STABLE: 3987, {\"heeldom\": 0.7373854718266571}',\n",
       " 'STABLE: 4003, {\"heeldom\": 0.8343064201527309}',\n",
       " 'STABLE: 3968, {\"heeldom\": 0.8169318130593819}',\n",
       " 'STABLE: 4004, {\"pron\": 0.5156534904406856, \"heeldom\": 0.9282188831661234}',\n",
       " 'STABLE: 3970, {\"heeldom\": 0.8658482671729683}',\n",
       " 'STABLE: 4000, {\"heeldom\": 0.8524234931968636}',\n",
       " 'STABLE: 3986, {\"heeldom\": 0.8730953448467215}',\n",
       " 'STABLE: 3986, {\"heeldom\": 0.8330344751922004}',\n",
       " 'STABLE: 3979, {\"heeldom\": 0.8344283863423927}',\n",
       " 'STABLE: 3996, {\"heeldom\": 0.8806562857785734}',\n",
       " 'STABLE: 4023, {\"pron\": 0.5117924591576172, \"heeldom\": 0.9006735567436399}',\n",
       " 'STABLE: 3980, {\"heeldom\": 0.8279226617884654}',\n",
       " 'STABLE: 3999, {\"heeldom\": 0.7321264139413984}',\n",
       " 'STABLE: 4095, {\"heeldom\": 0.7896477085009322}',\n",
       " 'DESCENT: 0.01674641148325359, {\"heeldom\": 0.6385614943402148}',\n",
       " 'DESCENT: 0.05154414963027403, {\"heeldom\": 0.6197585077529124}',\n",
       " 'DESCENT: 0.12679425837320574, {}',\n",
       " 'DESCENT: 0.20878642888212265, {}',\n",
       " 'DESCENT: 0.24641148325358853, {}',\n",
       " 'DESCENT: 0.31056981296215747, {}',\n",
       " 'DESCENT: 0.38386254893431926, {\"heellift\": 0.5307430367367537}',\n",
       " 'DESCENT: 0.43388429752066116, {}',\n",
       " 'DESCENT: 0.5500217485863419, {}',\n",
       " 'DESCENT: 0.6154849934754241, {}',\n",
       " 'DESCENT: 0.6668116572422792, {}',\n",
       " 'DESCENT: 0.7081339712918661, {}',\n",
       " 'DESCENT: 0.7703349282296651, {\"heellift\": 0.6275350055813991}',\n",
       " 'DESCENT: 0.8051326663766856, {\"heellift\": 0.9921675213388199, \"pron\": 0.5154215180917026}',\n",
       " 'DESCENT: 0.9143105698129621, {\"heellift\": 0.9989109910668653, \"pron\": 0.6699420263322883}',\n",
       " 'DESCENT: 1.0332753371030883, {\"heellift\": 0.9989611758409233, \"pron\": 0.5858322523071277}',\n",
       " 'DESCENT: 1.0189212701174424, {\"heellift\": 0.9982246405657637, \"pron\": 0.575235141740681}',\n",
       " 'STABLE: -568, {\"heellift\": 0.9983780598899635, \"pron\": 0.5744226298953222}',\n",
       " 'STABLE: -617, {\"heellift\": 0.9985433793783769, \"pron\": 0.5500387794927412}',\n",
       " 'STABLE: -588, {\"heellift\": 0.9987866834522846, \"pron\": 0.5930715495914606}',\n",
       " 'STABLE: -593, {\"heellift\": 0.9987933288557599, \"pron\": 0.595514530179974}',\n",
       " 'STABLE: -568, {\"heellift\": 0.9981973666620259, \"pron\": 0.5805783453336005}',\n",
       " 'STABLE: -637, {\"heellift\": 0.9972283878758498, \"pron\": 0.5062448841923867}',\n",
       " 'STABLE: -573, {\"heellift\": 0.9969483203904117, \"pron\": 0.5572526222372168}',\n",
       " 'STABLE: -586, {\"heellift\": 0.9970246078097925, \"pron\": 0.5440549247431961}',\n",
       " 'STABLE: -650, {\"heellift\": 0.9972342618316464, \"pron\": 0.5406326337432128}',\n",
       " 'ASCENT: 0.032405393649412785, {\"heellift\": 0.9968142473649579, \"pron\": 0.5008177569383455}',\n",
       " 'ASCENT: 0.08960417572857764, {\"heellift\": 0.9906490869002001}',\n",
       " 'ASCENT: 0.2279251848629839, {\"heellift\": 0.982750950726272}',\n",
       " 'ASCENT: 0.27424967377120485, {\"heellift\": 0.9559253492993499}',\n",
       " 'ASCENT: 0.38386254893431926, {\"heellift\": 0.8349844069384775}',\n",
       " 'ASCENT: 0.4619399739016964, {\"heellift\": 0.5077853030359757}',\n",
       " 'ASCENT: 0.5293605915615485, {}',\n",
       " 'ASCENT: 0.6589821661591997, {}',\n",
       " 'ASCENT: 0.7359721618094824, {}',\n",
       " 'ASCENT: 0.8231839930404524, {}',\n",
       " 'ASCENT: 0.9014789038712484, {\"pron\": 0.7102898159291314, \"heeldom\": 0.912850880016542}',\n",
       " 'ASCENT: 0.9391039582427142, {\"pron\": 0.6970104580021452, \"heeldom\": 0.9736597486674685}',\n",
       " 'ASCENT: 1.0128316659417138, {\"pron\": 0.6657469734251958, \"heeldom\": 0.9252948548882797}',\n",
       " 'STABLE: 3943, {\"pron\": 0.5995903532164104, \"heeldom\": 0.8724030534278069}',\n",
       " 'STABLE: 4086, {\"pron\": 0.6032391333491453, \"heeldom\": 0.7581839299307589}',\n",
       " 'STABLE: 3960, {\"pron\": 0.6195943792875691, \"heeldom\": 0.8842948854532167}',\n",
       " 'STABLE: 4011, {\"pron\": 0.6280628673953943, \"heeldom\": 0.9699667597127934}',\n",
       " 'STABLE: 4000, {\"pron\": 0.6682103583513989, \"heeldom\": 0.9954458947591353}',\n",
       " 'STABLE: 4038, {\"pron\": 0.716198789241218, \"heeldom\": 0.9961842210840245}',\n",
       " 'STABLE: 4022, {\"pron\": 0.6544317882526433, \"heeldom\": 0.8545931432771718}',\n",
       " 'STABLE: 3906, {\"pron\": 0.6841406909438282, \"heeldom\": 0.9800979916853719}',\n",
       " 'STABLE: 4042, {\"pron\": 0.6268858940062256, \"heeldom\": 0.9376404498942548}',\n",
       " 'DESCENT: 0.06394084384515007, {\"pron\": 0.6052733662295006, \"heeldom\": 0.794181764397051}',\n",
       " 'DESCENT: 0.11874728142670726, {\"pron\": 0.6035499842810244, \"heeldom\": 0.9539144696550288}',\n",
       " 'DESCENT: 0.20813397129186603, {\"heeldom\": 0.6548283360070103}',\n",
       " 'DESCENT: 0.2955632883862549, {\"heeldom\": 0.5716560866383089}',\n",
       " 'DESCENT: 0.38016528925619836, {}',\n",
       " 'DESCENT: 0.5287081339712919, {}',\n",
       " 'DESCENT: 0.6152675076120052, {}',\n",
       " 'DESCENT: 0.6970421922575033, {}',\n",
       " 'DESCENT: 0.7520661157024794, {\"heellift\": 0.5016056996798661}',\n",
       " 'DESCENT: 0.861244019138756, {\"heellift\": 0.8485658653003827}',\n",
       " 'DESCENT: 0.9369290996085254, {\"heellift\": 0.8823041018206758}',\n",
       " 'STABLE: -389, {\"heellift\": 0.924542123606339}',\n",
       " 'STABLE: -437, {\"heellift\": 0.9607600995129225}',\n",
       " 'STABLE: -461, {\"heellift\": 0.9682610561726693, \"pron\": 0.5087955609686183}',\n",
       " 'STABLE: -402, {\"heellift\": 0.9799350996470793}',\n",
       " 'STABLE: -455, {\"heellift\": 0.9725433819418123}',\n",
       " 'STABLE: -398, {\"heellift\": 0.9796821242072605}',\n",
       " 'STABLE: -439, {\"heellift\": 0.9909644400755426}',\n",
       " 'STABLE: -448, {\"heellift\": 0.986139799077468}',\n",
       " 'STABLE: -547, {\"heellift\": 0.9785757922533648}',\n",
       " 'STABLE: -633, {\"heellift\": 0.9757886086179718}',\n",
       " 'STABLE: -676, {\"heellift\": 0.9688958792908499}',\n",
       " 'ASCENT: 0.05263157894736842, {\"heellift\": 0.9648931511741875}',\n",
       " 'ASCENT: 0.11787733797303175, {\"heellift\": 0.9554393949072665}',\n",
       " 'ASCENT: 0.263375380600261, {\"heellift\": 0.9023274234270392}',\n",
       " 'ASCENT: 0.33579817311874727, {\"heellift\": 0.7120344273349426}',\n",
       " 'ASCENT: 0.491083079599826, {\"heellift\": 0.578155483385435}',\n",
       " 'ASCENT: 0.592431491953023, {}',\n",
       " 'ASCENT: 0.6465854719443236, {}',\n",
       " 'ASCENT: 0.7859939103958242, {}',\n",
       " 'ASCENT: 0.8481948673336233, {}',\n",
       " 'ASCENT: 0.9286646367986081, {}',\n",
       " 'STABLE: 3617, {\"pron\": 0.6233624123287861}',\n",
       " 'STABLE: 3746, {\"pron\": 0.6919620521261667, \"heeldom\": 0.933370934029945}',\n",
       " 'STABLE: 3882, {\"pron\": 0.7079077702309302, \"heeldom\": 0.8264728846841818}',\n",
       " 'STABLE: 3951, {\"pron\": 0.6856082373873221, \"heeldom\": 0.9487158053798602}',\n",
       " 'STABLE: 4000, {\"pron\": 0.7066006168197316, \"heeldom\": 0.979834849725732}',\n",
       " 'STABLE: 3992, {\"pron\": 0.6746368391085454, \"heeldom\": 0.9835959764277681}',\n",
       " 'STABLE: 3984, {\"pron\": 0.7109122680486631, \"heeldom\": 0.9967396405020087}',\n",
       " 'STABLE: 3992, {\"pron\": 0.6978580298920102, \"heeldom\": 0.9602017724854847}',\n",
       " 'STABLE: 3982, {\"pron\": 0.7037968880287685, \"heeldom\": 0.9932914094746823}',\n",
       " 'STABLE: 3978, {\"pron\": 0.689174901776962, \"heeldom\": 0.9817587519510541}',\n",
       " 'STABLE: 3975, {\"pron\": 0.6917340370219972, \"heeldom\": 0.9988858883595789}',\n",
       " 'STABLE: 3963, {\"pron\": 0.6955676442753697, \"heeldom\": 0.9971918694466112}',\n",
       " 'STABLE: 4038, {\"pron\": 0.6746666502526316, \"heeldom\": 0.98763751290726}',\n",
       " 'STABLE: 4018, {\"pron\": 0.7177806071128914, \"heeldom\": 0.9858224700652363}',\n",
       " 'STABLE: 3982, {\"pron\": 0.7042292712911021, \"heeldom\": 0.9719143739362265}']"
      ]
     },
     "execution_count": 44,
     "metadata": {},
     "output_type": "execute_result"
    }
   ],
   "source": [
    "content = content[:111]\n",
    "content"
   ]
  },
  {
   "cell_type": "code",
   "execution_count": 46,
   "metadata": {
    "collapsed": false
   },
   "outputs": [],
   "source": [
    "import json\n",
    "\n",
    "colors = { 'sup': 'b',\n",
    "           'heellift': 'r',\n",
    "           'pron': 'y', \n",
    "           'heeldom': 'm',\n",
    "           'normal': 'g' }\n",
    "\n",
    "AREA_SCALE = 10\n",
    "\n",
    "X, Y, S, C =  [], [], [], [] #x, y, area, colors\n",
    "x = 0\n",
    "for line in content:\n",
    "    plot_obj = {}\n",
    "    line = line.split(', ')\n",
    "    pos_info = line[0].split(': ')\n",
    "    pos = pos_info[0]\n",
    "    if pos == 'STABLE':\n",
    "        y = 1 if int(pos_info[1]) > 0 else 0\n",
    "    elif pos == 'DESCENT':\n",
    "        y = 1 - float(pos_info[1])\n",
    "    else:\n",
    "        y = float(pos_info[1])   \n",
    "    if len(line) > 2:\n",
    "        error_str = line[1] + ', ' + line[2]\n",
    "    else:\n",
    "        error_str = line[1]\n",
    "    errors = json.loads(error_str)\n",
    "    if len(errors) == 0:\n",
    "        area = np.pi * (AREA_SCALE * 0.5)**2\n",
    "        S.append(area)\n",
    "        C.append(colors['normal'])\n",
    "        Y.append(y)\n",
    "        X.append(x)\n",
    "    else:\n",
    "        for k in errors:\n",
    "            color = colors[k]\n",
    "            C.append(color)\n",
    "            area = np.pi * (AREA_SCALE * errors[k])**2\n",
    "            S.append(area)\n",
    "            Y.append(y)\n",
    "            X.append(x)\n",
    "    x += 25\n"
   ]
  },
  {
   "cell_type": "code",
   "execution_count": 47,
   "metadata": {
    "collapsed": false
   },
   "outputs": [
    {
     "data": {
      "image/png": "[encoded data removed]",
      "text/plain": [
       "<matplotlib.figure.Figure at 0x11426cc88>"
      ]
     },
     "metadata": {},
     "output_type": "display_data"
    }
   ],
   "source": [
    "# Fixing random state for reproducibility\n",
    "np.random.seed(19680801)\n",
    "\n",
    "\n",
    "N = 50\n",
    "x = np.random.rand(N)\n",
    "y = np.random.rand(N)\n",
    "colors = np.random.rand(N)\n",
    "area = np.pi * (15 * np.random.rand(N))**2  # 0 to 15 point radii\n",
    "colors = ['b' for x in X]\n",
    "\n",
    "plt.scatter(X, Y, c=C, s=S, alpha=0.5)\n",
    "plt.show()"
   ]
  },
  {
   "cell_type": "code",
   "execution_count": 33,
   "metadata": {
    "collapsed": false
   },
   "outputs": [
    {
     "data": {
      "text/plain": [
       "array([  5.46356411e+02,   5.71821686e+02,   3.03219923e+00,\n",
       "         8.61833880e+01,   1.65440974e+02,   4.05094025e+02,\n",
       "         2.27861222e+00,   3.70723305e+01,   2.79902572e+02,\n",
       "         5.89669414e+01,   7.00110192e+02,   1.23565225e+02,\n",
       "         6.85951010e+02,   4.10915670e+02,   2.17925141e+00,\n",
       "         7.13468193e+01,   6.62017758e+02,   2.52764810e+00,\n",
       "         4.54349395e-02,   2.41276360e+02,   2.99138706e+02,\n",
       "         4.65599684e+02,   1.33718165e+02,   3.53734133e+02,\n",
       "         2.41557244e+02,   3.54419067e+02,   4.35229796e+01,\n",
       "         1.67691248e+02,   2.85224203e+01,   3.56872637e+02,\n",
       "         2.81075772e+02,   6.59344369e+02,   3.07628310e+02,\n",
       "         5.14346441e+02,   1.62129790e+02,   6.29284888e+02,\n",
       "         1.73169401e+02,   6.57556115e+02,   1.30924259e+02,\n",
       "         2.86492935e+01,   2.04324400e+02,   1.13334863e+02,\n",
       "         3.74418552e+01,   8.41340587e+01,   7.95699025e+01,\n",
       "         4.93304542e+01,   4.26651715e+02,   4.44975055e+02,\n",
       "         5.56420325e+02,   9.10447609e+00])"
      ]
     },
     "execution_count": 33,
     "metadata": {},
     "output_type": "execute_result"
    }
   ],
   "source": [
    "area"
   ]
  },
  {
   "cell_type": "code",
   "execution_count": null,
   "metadata": {
    "collapsed": true
   },
   "outputs": [],
   "source": []
  }
 ],
 "metadata": {
  "kernelspec": {
   "display_name": "Python 3",
   "language": "python",
   "name": "python3"
  },
  "language_info": {
   "codemirror_mode": {
    "name": "ipython",
    "version": 3
   },
   "file_extension": ".py",
   "mimetype": "text/x-python",
   "name": "python",
   "nbconvert_exporter": "python",
   "pygments_lexer": "ipython3",
   "version": "3.6.0"
  }
 },
 "nbformat": 4,
 "nbformat_minor": 2
}
